{
 "cells": [
  {
   "cell_type": "markdown",
   "metadata": {},
   "source": [
    "# DDPQ\n",
    "\n",
    "Here I will use deep deterministic policy gradients (DDPG) to train on the reaching environment with a single agent\n",
    "\n",
    "---\n",
    "\n",
    "In this notebook, I use the Unity ML-Agents environment for the second project of the [Deep Reinforcement Learning Nanodegree](https://www.udacity.com/course/deep-reinforcement-learning-nanodegree--nd893) program.\n",
    "\n",
    "### 1. Start the Environment\n",
    "\n",
    "We begin by importing the necessary packages.  If the code cell below returns an error, please revisit the project instructions to double-check that you have installed [Unity ML-Agents](https://github.com/Unity-Technologies/ml-agents/blob/master/docs/Installation.md) and [NumPy](http://www.numpy.org/)."
   ]
  },
  {
   "cell_type": "code",
   "execution_count": 1,
   "metadata": {},
   "outputs": [],
   "source": [
    "from unityagents import UnityEnvironment\n",
    "import numpy as np\n",
    "from collections import deque\n",
    "import matplotlib.pyplot as plt\n",
    "\n",
    "from ddpg_agent import Agent"
   ]
  },
  {
   "cell_type": "code",
   "execution_count": 2,
   "metadata": {},
   "outputs": [
    {
     "name": "stderr",
     "output_type": "stream",
     "text": [
      "INFO:unityagents:\n",
      "'Academy' started successfully!\n",
      "Unity Academy name: Academy\n",
      "        Number of Brains: 1\n",
      "        Number of External Brains : 1\n",
      "        Lesson number : 0\n",
      "        Reset Parameters :\n",
      "\t\tgoal_speed -> 1.0\n",
      "\t\tgoal_size -> 5.0\n",
      "Unity brain name: ReacherBrain\n",
      "        Number of Visual Observations (per agent): 0\n",
      "        Vector Observation space type: continuous\n",
      "        Vector Observation space size (per agent): 33\n",
      "        Number of stacked Vector Observation: 1\n",
      "        Vector Action space type: continuous\n",
      "        Vector Action space size (per agent): 4\n",
      "        Vector Action descriptions: , , , \n"
     ]
    }
   ],
   "source": [
    "env = UnityEnvironment(file_name='Reacher_Windows_x86_64/Reacher.exe',no_graphics=True)\n",
    "# get the default brain\n",
    "brain_name = env.brain_names[0]\n",
    "brain = env.brains[brain_name]\n",
    "\n",
    "# create agent\n",
    "agent = Agent(state_size=33, action_size=4, random_seed=20)"
   ]
  },
  {
   "cell_type": "code",
   "execution_count": 3,
   "metadata": {},
   "outputs": [],
   "source": [
    "def train_ddpg(agent, n_episodes=300, scores= [], scores_deque=deque(maxlen=100)):\n",
    "    for i_episode in range(n_episodes):\n",
    "        env_info = env.reset(train_mode=True)[brain_name]     # reset the environment    \n",
    "        state = env_info.vector_observations                  # get the current state (for each agent)\n",
    "        agent.reset()\n",
    "        score = np.zeros(20)                                          # initialize the score (for each agent)\n",
    "        for t in range(2000):\n",
    "            action = agent.act(state, add_noise=True, episode_num=i_episode) # select an action (for each agent)\n",
    "            env_info = env.step(action)[brain_name]           # send all actions to tne environment\n",
    "            # unpack environment variables\n",
    "            next_state = env_info.vector_observations         # get next state (for each agent)\n",
    "            reward = env_info.rewards                         # get reward (for each agent)\n",
    "            dones = env_info.local_done                        # see if episode finished\n",
    "            score += env_info.rewards                         # update the score (for each agent)\n",
    "            agent.step(state, action, reward, next_state, dones)\n",
    "            state = next_state                               # roll over states to next time step\n",
    "            if np.any(dones):                                  # exit loop if episode finished\n",
    "                break\n",
    "        scores.append(score)\n",
    "        scores_deque.append(score)\n",
    "\n",
    "        # print status every 20 episodes\n",
    "        if i_episode %20 == 0:\n",
    "            print('\\rEpisode {}\\tAverage Score: {:2f}'.format(i_episode, np.mean(scores_deque)))\n",
    "            agent.save_actor_critic(episode_num=i_episode)\n",
    "    agent.save_training_run(scores, episode_num=i_episode)\n",
    "    return scores"
   ]
  },
  {
   "cell_type": "code",
   "execution_count": 4,
   "metadata": {},
   "outputs": [
    {
     "name": "stdout",
     "output_type": "stream",
     "text": [
      "Episode 0\tAverage Score: 0.685000\n",
      "Episode 20\tAverage Score: 17.251238\n",
      "Episode 40\tAverage Score: 27.578829\n",
      "Episode 60\tAverage Score: 31.328745\n",
      "Episode 80\tAverage Score: 32.681468\n",
      "Episode 100\tAverage Score: 33.618294\n",
      "Episode 120\tAverage Score: 37.217694\n",
      "Episode 140\tAverage Score: 36.876299\n",
      "Episode 160\tAverage Score: 36.402139\n",
      "Episode 180\tAverage Score: 36.371679\n",
      "Episode 200\tAverage Score: 36.350164\n",
      "Episode 220\tAverage Score: 35.962544\n",
      "Episode 240\tAverage Score: 35.776024\n",
      "Episode 260\tAverage Score: 35.364454\n",
      "Episode 280\tAverage Score: 34.946649\n",
      "Episode 300\tAverage Score: 35.025559\n",
      "Episode 320\tAverage Score: 35.277094\n",
      "Episode 340\tAverage Score: 34.828154\n",
      "Episode 360\tAverage Score: 34.529014\n",
      "Episode 380\tAverage Score: 34.989434\n",
      "Episode 400\tAverage Score: 34.816339\n",
      "Episode 420\tAverage Score: 34.305144\n",
      "Episode 440\tAverage Score: 34.001234\n",
      "Episode 460\tAverage Score: 33.433119\n",
      "Episode 480\tAverage Score: 32.673009\n",
      "Episode 500\tAverage Score: 32.196129\n",
      "Episode 520\tAverage Score: 32.317104\n",
      "Episode 540\tAverage Score: 32.854894\n",
      "Episode 560\tAverage Score: 33.419829\n",
      "Episode 580\tAverage Score: 33.535079\n",
      "Episode 600\tAverage Score: 33.281174\n",
      "Episode 620\tAverage Score: 33.074569\n",
      "Episode 640\tAverage Score: 32.345789\n",
      "Episode 660\tAverage Score: 32.522069\n",
      "Episode 680\tAverage Score: 32.685029\n",
      "Episode 700\tAverage Score: 32.822454\n",
      "Episode 720\tAverage Score: 32.583514\n",
      "Episode 740\tAverage Score: 32.710999\n",
      "Episode 760\tAverage Score: 32.802614\n",
      "Episode 780\tAverage Score: 32.931444\n",
      "Episode 800\tAverage Score: 33.085579\n",
      "Episode 820\tAverage Score: 33.373929\n",
      "Episode 840\tAverage Score: 33.148804\n",
      "Episode 860\tAverage Score: 32.534754\n",
      "Episode 880\tAverage Score: 32.178649\n",
      "Episode 900\tAverage Score: 32.653144\n",
      "Episode 920\tAverage Score: 32.712944\n",
      "Episode 940\tAverage Score: 33.295599\n",
      "Episode 960\tAverage Score: 33.751559\n",
      "Episode 980\tAverage Score: 33.907454\n"
     ]
    },
    {
     "data": {
      "image/png": "[encoded data removed]",
      "text/plain": [
       "<Figure size 432x288 with 1 Axes>"
      ]
     },
     "metadata": {
      "needs_background": "light"
     },
     "output_type": "display_data"
    }
   ],
   "source": [
    "scores = train_ddpg(agent, n_episodes=1000)"
   ]
  },
  {
   "cell_type": "markdown",
   "metadata": {},
   "source": [
    "When finished, you can close the environment."
   ]
  },
  {
   "cell_type": "code",
   "execution_count": 7,
   "metadata": {},
   "outputs": [],
   "source": [
    "env.close()"
   ]
  }
 ],
 "metadata": {
  "interpreter": {
   "hash": "8f1bbb935f0941010fff93b0bdc3c94822206b6ab136a42b8e7cf8eef5a82c7f"
  },
  "kernelspec": {
   "display_name": "drlnd",
   "language": "python",
   "name": "python3"
  },
  "language_info": {
   "codemirror_mode": {
    "name": "ipython",
    "version": 3
   },
   "file_extension": ".py",
   "mimetype": "text/x-python",
   "name": "python",
   "nbconvert_exporter": "python",
   "pygments_lexer": "ipython3",
   "version": "3.6.13"
  }
 },
 "nbformat": 4,
 "nbformat_minor": 2
}
