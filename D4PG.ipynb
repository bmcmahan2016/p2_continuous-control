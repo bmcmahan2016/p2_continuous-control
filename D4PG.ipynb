{
 "cells": [
  {
   "cell_type": "markdown",
   "metadata": {},
   "source": [
    "# DDPQ\n",
    "\n",
    "Here I will use deep deterministic policy gradients (DDPG) to train on the reaching environment with a single agent\n",
    "\n",
    "---\n",
    "\n",
    "In this notebook, I use the Unity ML-Agents environment for the second project of the [Deep Reinforcement Learning Nanodegree](https://www.udacity.com/course/deep-reinforcement-learning-nanodegree--nd893) program.\n",
    "\n",
    "### 1. Start the Environment\n",
    "\n",
    "We begin by importing the necessary packages.  If the code cell below returns an error, please revisit the project instructions to double-check that you have installed [Unity ML-Agents](https://github.com/Unity-Technologies/ml-agents/blob/master/docs/Installation.md) and [NumPy](http://www.numpy.org/)."
   ]
  },
  {
   "cell_type": "code",
   "execution_count": 1,
   "metadata": {},
   "outputs": [],
   "source": [
    "from unityagents import UnityEnvironment\n",
    "import numpy as np\n",
    "from collections import deque\n",
    "import matplotlib.pyplot as plt\n",
    "\n",
    "from d4pg_agent import Agent"
   ]
  },
  {
   "cell_type": "code",
   "execution_count": 2,
   "metadata": {},
   "outputs": [
    {
     "name": "stderr",
     "output_type": "stream",
     "text": [
      "INFO:unityagents:\n",
      "'Academy' started successfully!\n",
      "Unity Academy name: Academy\n",
      "        Number of Brains: 1\n",
      "        Number of External Brains : 1\n",
      "        Lesson number : 0\n",
      "        Reset Parameters :\n",
      "\t\tgoal_speed -> 1.0\n",
      "\t\tgoal_size -> 5.0\n",
      "Unity brain name: ReacherBrain\n",
      "        Number of Visual Observations (per agent): 0\n",
      "        Vector Observation space type: continuous\n",
      "        Vector Observation space size (per agent): 33\n",
      "        Number of stacked Vector Observation: 1\n",
      "        Vector Action space type: continuous\n",
      "        Vector Action space size (per agent): 4\n",
      "        Vector Action descriptions: , , , \n"
     ]
    }
   ],
   "source": [
    "env = UnityEnvironment(file_name='Reacher_Windows_x86_64/Reacher.exe')\n",
    "# get the default brain\n",
    "brain_name = env.brain_names[0]\n",
    "brain = env.brains[brain_name]\n",
    "\n",
    "# create agent\n",
    "agent = Agent(state_size=33, action_size=4, random_seed=20)"
   ]
  },
  {
   "cell_type": "code",
   "execution_count": 3,
   "metadata": {},
   "outputs": [],
   "source": [
    "def train_ddpg(agent, n_episodes=300, scores= [], scores_deque=deque(maxlen=100)):\n",
    "    for i_episode in range(n_episodes):\n",
    "        env_info = env.reset(train_mode=True)[brain_name]     # reset the environment    \n",
    "        state = env_info.vector_observations                  # get the current state (for each agent)\n",
    "        agent.reset()\n",
    "        score = np.zeros(20)                                          # initialize the score (for each agent)\n",
    "        for t in range(2000):\n",
    "            # we will use N=3 bootstrapped return\n",
    "            # get action\n",
    "            action = agent.act(state, add_noise=True, episode_num=i_episode) # select an action (for each agent)\n",
    "            env_info = env.step(action)[brain_name]           # send all actions to tne environment\n",
    "            # unpack environment variables\n",
    "            next_state = env_info.vector_observations         # get next state (for each agent)\n",
    "            reward = env_info.rewards                         # get reward (for each agent)\n",
    "            dones = env_info.local_done                        # see if episode finished\n",
    "            score += env_info.rewards \n",
    "            \n",
    "            # bootstrap one more action out                     \n",
    "            next_action = agent.act(next_state, add_noise=True, episode_num=i_episode)\n",
    "            env_info = env.step(next_action)[brain_name]\n",
    "            # unpack environment variables\n",
    "            next_next_state = env_info.vector_observations         # get next state (for each agent)\n",
    "            next_reward = env_info.rewards                         # get reward (for each agent)\n",
    "            next_dones = env_info.local_done                        # see if episode finished\n",
    "            score += env_info.rewards \n",
    "\n",
    "\n",
    "            # bootstrap one more action out\n",
    "            next_next_action = agent.act(next_next_state, add_noise=True, episode_num=i_episode)\n",
    "            env_info = env.step(next_next_action)[brain_name]\n",
    "            # unpack environment variables\n",
    "            next_next_next_state = env_info.vector_observations         # get next state (for each agent)\n",
    "            next_next_reward = env_info.rewards                         # get reward (for each agent)\n",
    "            next_next_dones = env_info.local_done                        # see if episode finished\n",
    "            score += env_info.rewards \n",
    "\n",
    "            # experience tuple now allows for 3 step look ahead\n",
    "            agent.step(state, action, reward, next_state, next_action, next_reward, next_next_state, next_next_action, next_next_reward, next_next_next_state, next_next_dones)\n",
    "            state = next_next_next_state                               # roll over states to next time step\n",
    "            if np.any(next_next_dones) or np.any(next_dones) or np.any(dones):                                  # exit loop if episode finished\n",
    "                break\n",
    "\n",
    "        scores.append(score)\n",
    "        scores_deque.append(score)\n",
    "\n",
    "        # print status every 20 episodes\n",
    "        if i_episode %2 == 0:\n",
    "            print('\\rEpisode {}\\tAverage Score: {:2f}'.format(i_episode, np.mean(scores_deque)))\n",
    "            agent.save_actor_critic(episode_num=i_episode)\n",
    "    agent.save_training_run(scores, episode_num=i_episode)\n",
    "    return scores"
   ]
  },
  {
   "cell_type": "code",
   "execution_count": 4,
   "metadata": {},
   "outputs": [
    {
     "name": "stdout",
     "output_type": "stream",
     "text": [
      "Episode 0\tAverage Score: 0.281000\n",
      "Episode 2\tAverage Score: 0.584000\n",
      "Episode 4\tAverage Score: 0.751800\n",
      "Episode 6\tAverage Score: 0.759000\n",
      "Episode 8\tAverage Score: 0.809333\n",
      "Episode 10\tAverage Score: 0.884500\n",
      "Episode 12\tAverage Score: 0.991269\n",
      "Episode 14\tAverage Score: 1.186533\n",
      "Episode 16\tAverage Score: 1.349823\n",
      "Episode 18\tAverage Score: 1.575816\n",
      "Episode 20\tAverage Score: 1.887452\n",
      "Episode 22\tAverage Score: 2.122870\n",
      "Episode 24\tAverage Score: 2.640460\n",
      "Episode 26\tAverage Score: 3.405574\n",
      "Episode 28\tAverage Score: 4.377655\n",
      "Episode 30\tAverage Score: 5.424274\n",
      "Episode 32\tAverage Score: 6.641197\n",
      "Episode 34\tAverage Score: 7.896243\n",
      "Episode 36\tAverage Score: 9.174189\n",
      "Episode 38\tAverage Score: 10.352820\n",
      "Episode 40\tAverage Score: 11.576756\n",
      "Episode 42\tAverage Score: 12.732802\n",
      "Episode 44\tAverage Score: 13.802544\n",
      "Episode 46\tAverage Score: 14.813202\n",
      "Episode 48\tAverage Score: 15.751296\n",
      "Episode 50\tAverage Score: 16.646539\n",
      "Episode 52\tAverage Score: 17.470698\n",
      "Episode 54\tAverage Score: 18.241836\n",
      "Episode 56\tAverage Score: 18.970886\n",
      "Episode 58\tAverage Score: 19.645533\n",
      "Episode 60\tAverage Score: 20.280590\n",
      "Episode 62\tAverage Score: 20.876666\n",
      "Episode 64\tAverage Score: 21.433307\n",
      "Episode 66\tAverage Score: 21.957895\n",
      "Episode 68\tAverage Score: 22.456072\n",
      "Episode 70\tAverage Score: 22.926436\n",
      "Episode 72\tAverage Score: 23.373383\n",
      "Episode 74\tAverage Score: 23.798766\n",
      "Episode 76\tAverage Score: 24.200629\n",
      "Episode 78\tAverage Score: 24.583645\n",
      "Episode 80\tAverage Score: 24.952172\n",
      "Episode 82\tAverage Score: 25.300066\n",
      "Episode 84\tAverage Score: 25.634458\n",
      "Episode 86\tAverage Score: 25.952327\n",
      "Episode 88\tAverage Score: 26.256381\n",
      "Episode 90\tAverage Score: 26.544824\n",
      "Episode 92\tAverage Score: 26.818930\n",
      "Episode 94\tAverage Score: 27.083057\n",
      "Episode 96\tAverage Score: 27.335922\n",
      "Episode 98\tAverage Score: 27.580464\n",
      "Episode 100\tAverage Score: 28.090414\n",
      "Episode 102\tAverage Score: 28.864544\n",
      "Episode 104\tAverage Score: 29.634854\n",
      "Episode 106\tAverage Score: 30.407884\n",
      "Episode 108\tAverage Score: 31.176259\n",
      "Episode 110\tAverage Score: 31.940274\n",
      "Episode 112\tAverage Score: 32.696594\n",
      "Episode 114\tAverage Score: 33.434159\n",
      "Episode 116\tAverage Score: 34.172749\n",
      "Episode 118\tAverage Score: 34.890369\n",
      "Episode 120\tAverage Score: 35.581144\n",
      "Episode 122\tAverage Score: 36.276354\n",
      "Episode 124\tAverage Score: 36.888269\n",
      "Episode 126\tAverage Score: 37.413189\n",
      "Episode 128\tAverage Score: 37.846584\n",
      "Episode 130\tAverage Score: 38.221864\n",
      "Episode 132\tAverage Score: 38.494974\n",
      "Episode 134\tAverage Score: 38.709889\n",
      "Episode 136\tAverage Score: 38.866124\n",
      "Episode 138\tAverage Score: 39.009229\n",
      "Episode 140\tAverage Score: 39.083164\n",
      "Episode 142\tAverage Score: 39.143489\n",
      "Episode 144\tAverage Score: 39.192749\n",
      "Episode 146\tAverage Score: 39.224899\n",
      "Episode 148\tAverage Score: 39.254584\n",
      "Episode 150\tAverage Score: 39.265799\n",
      "Episode 152\tAverage Score: 39.280379\n",
      "Episode 154\tAverage Score: 39.294359\n",
      "Episode 156\tAverage Score: 39.300124\n",
      "Episode 158\tAverage Score: 39.306764\n",
      "Episode 160\tAverage Score: 39.311659\n",
      "Episode 162\tAverage Score: 39.313374\n",
      "Episode 164\tAverage Score: 39.322184\n",
      "Episode 166\tAverage Score: 39.330829\n",
      "Episode 168\tAverage Score: 39.335624\n",
      "Episode 170\tAverage Score: 39.340364\n",
      "Episode 172\tAverage Score: 39.342464\n",
      "Episode 174\tAverage Score: 39.345614\n",
      "Episode 176\tAverage Score: 39.348689\n",
      "Episode 178\tAverage Score: 39.351519\n",
      "Episode 180\tAverage Score: 39.351324\n",
      "Episode 182\tAverage Score: 39.352494\n",
      "Episode 184\tAverage Score: 39.352389\n",
      "Episode 186\tAverage Score: 39.352719\n",
      "Episode 188\tAverage Score: 39.351054\n",
      "Episode 190\tAverage Score: 39.352109\n",
      "Episode 192\tAverage Score: 39.354844\n",
      "Episode 194\tAverage Score: 39.354574\n",
      "Episode 196\tAverage Score: 39.354434\n",
      "Episode 198\tAverage Score: 39.352289\n"
     ]
    },
    {
     "data": {
      "image/png": "[encoded data removed]",
      "text/plain": [
       "<Figure size 432x288 with 1 Axes>"
      ]
     },
     "metadata": {
      "needs_background": "light"
     },
     "output_type": "display_data"
    }
   ],
   "source": [
    "scores = train_ddpg(agent, n_episodes=200)"
   ]
  },
  {
   "cell_type": "code",
   "execution_count": null,
   "metadata": {},
   "outputs": [],
   "source": [
    "# load a pretrained agent\n",
    "assert False\n",
    "agent.load_weights('', 200)  # loads weights in the current folder corresponding to model after 200 training episodes"
   ]
  },
  {
   "cell_type": "code",
   "execution_count": 8,
   "metadata": {},
   "outputs": [
    {
     "name": "stdout",
     "output_type": "stream",
     "text": [
      "Total score (averaged over agents) this episode: 34.780499222595246\n"
     ]
    }
   ],
   "source": [
    "# visualize agent's performance\n",
    "env_info = env.reset(train_mode=False)[brain_name]     # reset the environment    \n",
    "states = env_info.vector_observations                  # get the current state (for each agent)\n",
    "scores = np.zeros(20)  # initialize the score for all 20 agents\n",
    "while True:\n",
    "    action = agent.act(states, add_noise=True) # select an action (for each agent)\n",
    "    env_info = env.step(action)[brain_name]           # send all actions to tne environment\n",
    "    next_states = env_info.vector_observations         # get next state (for each agent)\n",
    "    rewards = env_info.rewards                         # get reward (for each agent)\n",
    "    dones = env_info.local_done                        # see if episode finished\n",
    "    scores += env_info.rewards                         # update the score (for each agent)\n",
    "    states = next_states                               # roll over states to next time step\n",
    "    if np.any(dones):                                  # exit loop if episode finished\n",
    "        break\n",
    "print('Total score (averaged over agents) this episode: {}'.format(np.mean(scores)))"
   ]
  },
  {
   "cell_type": "markdown",
   "metadata": {},
   "source": [
    "When finished, you can close the environment."
   ]
  },
  {
   "cell_type": "code",
   "execution_count": null,
   "metadata": {},
   "outputs": [],
   "source": [
    "env.close()"
   ]
  }
 ],
 "metadata": {
  "interpreter": {
   "hash": "8f1bbb935f0941010fff93b0bdc3c94822206b6ab136a42b8e7cf8eef5a82c7f"
  },
  "kernelspec": {
   "display_name": "drlnd",
   "language": "python",
   "name": "python3"
  },
  "language_info": {
   "codemirror_mode": {
    "name": "ipython",
    "version": 3
   },
   "file_extension": ".py",
   "mimetype": "text/x-python",
   "name": "python",
   "nbconvert_exporter": "python",
   "pygments_lexer": "ipython3",
   "version": "3.6.13"
  }
 },
 "nbformat": 4,
 "nbformat_minor": 2
}
