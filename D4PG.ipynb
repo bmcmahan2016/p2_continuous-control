{
 "cells": [
  {
   "cell_type": "markdown",
   "metadata": {},
   "source": [
    "# DDPQ\n",
    "\n",
    "Here I will use deep deterministic policy gradients (DDPG) to train on the reaching environment with a single agent\n",
    "\n",
    "---\n",
    "\n",
    "In this notebook, I use the Unity ML-Agents environment for the second project of the [Deep Reinforcement Learning Nanodegree](https://www.udacity.com/course/deep-reinforcement-learning-nanodegree--nd893) program.\n",
    "\n",
    "### 1. Start the Environment\n",
    "\n",
    "We begin by importing the necessary packages.  If the code cell below returns an error, please revisit the project instructions to double-check that you have installed [Unity ML-Agents](https://github.com/Unity-Technologies/ml-agents/blob/master/docs/Installation.md) and [NumPy](http://www.numpy.org/)."
   ]
  },
  {
   "cell_type": "code",
   "execution_count": 1,
   "metadata": {},
   "outputs": [],
   "source": [
    "from unityagents import UnityEnvironment\n",
    "import numpy as np\n",
    "from collections import deque\n",
    "import matplotlib.pyplot as plt\n",
    "\n",
    "from d4pg_agent import Agent"
   ]
  },
  {
   "cell_type": "code",
   "execution_count": 2,
   "metadata": {},
   "outputs": [
    {
     "name": "stderr",
     "output_type": "stream",
     "text": [
      "INFO:unityagents:\n",
      "'Academy' started successfully!\n",
      "Unity Academy name: Academy\n",
      "        Number of Brains: 1\n",
      "        Number of External Brains : 1\n",
      "        Lesson number : 0\n",
      "        Reset Parameters :\n",
      "\t\tgoal_speed -> 1.0\n",
      "\t\tgoal_size -> 5.0\n",
      "Unity brain name: ReacherBrain\n",
      "        Number of Visual Observations (per agent): 0\n",
      "        Vector Observation space type: continuous\n",
      "        Vector Observation space size (per agent): 33\n",
      "        Number of stacked Vector Observation: 1\n",
      "        Vector Action space type: continuous\n",
      "        Vector Action space size (per agent): 4\n",
      "        Vector Action descriptions: , , , \n"
     ]
    }
   ],
   "source": [
    "env = UnityEnvironment(file_name='Reacher_Windows_x86_64/Reacher.exe')\n",
    "# get the default brain\n",
    "brain_name = env.brain_names[0]\n",
    "brain = env.brains[brain_name]\n",
    "\n",
    "# create agent\n",
    "agent = Agent(state_size=33, action_size=4, random_seed=20)"
   ]
  },
  {
   "cell_type": "code",
   "execution_count": 3,
   "metadata": {},
   "outputs": [],
   "source": [
    "def train_ddpg(agent, n_episodes=300, scores= [], scores_deque=deque(maxlen=100)):\n",
    "    for i_episode in range(n_episodes):\n",
    "        env_info = env.reset(train_mode=True)[brain_name]     # reset the environment    \n",
    "        state = env_info.vector_observations                  # get the current state (for each agent)\n",
    "        agent.reset()\n",
    "        score = np.zeros(20)                                          # initialize the score (for each agent)\n",
    "        for t in range(2000):\n",
    "            # we will use N=3 bootstrapped return\n",
    "            # get action\n",
    "            action = agent.act(state, add_noise=True, episode_num=i_episode) # select an action (for each agent)\n",
    "            env_info = env.step(action)[brain_name]           # send all actions to tne environment\n",
    "            # unpack environment variables\n",
    "            next_state = env_info.vector_observations         # get next state (for each agent)\n",
    "            reward = env_info.rewards                         # get reward (for each agent)\n",
    "            dones = env_info.local_done                        # see if episode finished\n",
    "            score += env_info.rewards \n",
    "            \n",
    "            # bootstrap one more action out                     \n",
    "            next_action = agent.act(next_state, add_noise=True, episode_num=i_episode)\n",
    "            env_info = env.step(next_action)[brain_name]\n",
    "            # unpack environment variables\n",
    "            next_next_state = env_info.vector_observations         # get next state (for each agent)\n",
    "            next_reward = env_info.rewards                         # get reward (for each agent)\n",
    "            next_dones = env_info.local_done                        # see if episode finished\n",
    "            score += env_info.rewards \n",
    "\n",
    "\n",
    "            # bootstrap one more action out\n",
    "            next_next_action = agent.act(next_next_state, add_noise=True, episode_num=i_episode)\n",
    "            env_info = env.step(next_next_action)[brain_name]\n",
    "            # unpack environment variables\n",
    "            next_next_next_state = env_info.vector_observations         # get next state (for each agent)\n",
    "            next_next_reward = env_info.rewards                         # get reward (for each agent)\n",
    "            next_next_dones = env_info.local_done                        # see if episode finished\n",
    "            score += env_info.rewards \n",
    "\n",
    "            # experience tuple now allows for 3 step look ahead\n",
    "            agent.step(state, action, reward, next_state, next_action, next_reward, next_next_state, next_next_action, next_next_reward, next_next_next_state, next_next_dones)\n",
    "            state = next_next_next_state                               # roll over states to next time step\n",
    "            if np.any(next_next_dones) or np.any(next_dones) or np.any(dones):                                  # exit loop if episode finished\n",
    "                break\n",
    "\n",
    "        scores.append(score)\n",
    "        scores_deque.append(score)\n",
    "\n",
    "        # print status every 20 episodes\n",
    "        if i_episode %2 == 0:\n",
    "            print('\\rEpisode {}\\tAverage Score: {:2f}'.format(i_episode, np.mean(scores_deque)))\n",
    "            agent.save_actor_critic(episode_num=i_episode)\n",
    "    agent.save_training_run(scores, episode_num=i_episode)\n",
    "    return scores"
   ]
  },
  {
   "cell_type": "code",
   "execution_count": 4,
   "metadata": {},
   "outputs": [
    {
     "name": "stdout",
     "output_type": "stream",
     "text": [
      "Episode 0\tAverage Score: 0.276000\n",
      "Episode 2\tAverage Score: 0.648000\n",
      "Episode 4\tAverage Score: 0.620900\n",
      "Episode 6\tAverage Score: 0.490857\n",
      "Episode 8\tAverage Score: 0.450111\n",
      "Episode 10\tAverage Score: 0.402500\n",
      "Episode 12\tAverage Score: 0.397769\n",
      "Episode 14\tAverage Score: 0.372333\n",
      "Episode 16\tAverage Score: 0.340176\n",
      "Episode 18\tAverage Score: 0.317000\n",
      "Episode 20\tAverage Score: 0.306143\n",
      "Episode 22\tAverage Score: 0.288978\n",
      "Episode 24\tAverage Score: 0.270440\n",
      "Episode 26\tAverage Score: 0.253056\n",
      "Episode 28\tAverage Score: 0.242241\n",
      "Episode 30\tAverage Score: 0.256871\n",
      "Episode 32\tAverage Score: 0.285303\n",
      "Episode 34\tAverage Score: 0.309257\n",
      "Episode 36\tAverage Score: 0.329541\n",
      "Episode 38\tAverage Score: 0.349821\n",
      "Episode 40\tAverage Score: 0.366476\n",
      "Episode 42\tAverage Score: 0.379500\n",
      "Episode 44\tAverage Score: 0.394856\n",
      "Episode 46\tAverage Score: 0.409043\n",
      "Episode 48\tAverage Score: 0.421449\n",
      "Episode 50\tAverage Score: 0.429216\n",
      "Episode 52\tAverage Score: 0.433094\n",
      "Episode 54\tAverage Score: 0.437482\n",
      "Episode 56\tAverage Score: 0.440991\n",
      "Episode 58\tAverage Score: 0.448407\n",
      "Episode 60\tAverage Score: 0.456787\n",
      "Episode 62\tAverage Score: 0.464302\n",
      "Episode 64\tAverage Score: 0.472854\n",
      "Episode 66\tAverage Score: 0.479896\n",
      "Episode 68\tAverage Score: 0.487239\n",
      "Episode 70\tAverage Score: 0.490268\n",
      "Episode 72\tAverage Score: 0.492726\n",
      "Episode 74\tAverage Score: 0.496953\n",
      "Episode 76\tAverage Score: 0.500545\n",
      "Episode 78\tAverage Score: 0.501316\n",
      "Episode 80\tAverage Score: 0.504605\n",
      "Episode 82\tAverage Score: 0.506036\n",
      "Episode 84\tAverage Score: 0.508759\n",
      "Episode 86\tAverage Score: 0.512299\n",
      "Episode 88\tAverage Score: 0.515719\n",
      "Episode 90\tAverage Score: 0.516462\n",
      "Episode 92\tAverage Score: 0.517817\n",
      "Episode 94\tAverage Score: 0.518068\n",
      "Episode 96\tAverage Score: 0.519716\n",
      "Episode 98\tAverage Score: 0.521333\n"
     ]
    },
    {
     "data": {
      "image/png": "[encoded data removed]",
      "text/plain": [
       "<Figure size 432x288 with 1 Axes>"
      ]
     },
     "metadata": {
      "needs_background": "light"
     },
     "output_type": "display_data"
    }
   ],
   "source": [
    "scores = train_ddpg(agent, n_episodes=100)"
   ]
  },
  {
   "cell_type": "markdown",
   "metadata": {},
   "source": [
    "When finished, you can close the environment."
   ]
  },
  {
   "cell_type": "code",
   "execution_count": 5,
   "metadata": {},
   "outputs": [],
   "source": [
    "env.close()"
   ]
  }
 ],
 "metadata": {
  "interpreter": {
   "hash": "8f1bbb935f0941010fff93b0bdc3c94822206b6ab136a42b8e7cf8eef5a82c7f"
  },
  "kernelspec": {
   "display_name": "drlnd",
   "language": "python",
   "name": "python3"
  },
  "language_info": {
   "codemirror_mode": {
    "name": "ipython",
    "version": 3
   },
   "file_extension": ".py",
   "mimetype": "text/x-python",
   "name": "python",
   "nbconvert_exporter": "python",
   "pygments_lexer": "ipython3",
   "version": "3.6.13"
  }
 },
 "nbformat": 4,
 "nbformat_minor": 2
}
